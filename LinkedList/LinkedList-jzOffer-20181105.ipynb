{
 "cells": [
  {
   "cell_type": "markdown",
   "metadata": {},
   "source": [
    "6.Reverse Linked List / print Linkedlist from right to left || 注意区别                "
   ]
  },
  {
   "cell_type": "code",
   "execution_count": null,
   "metadata": {},
   "outputs": [],
   "source": [
    "'''\n",
    " 6 Use Stack  Java Code  -- 从尾到头打印链表\n",
    "\n",
    "'''\n",
    "\n",
    "import java.util.ArrayList;\n",
    "import java.util.Stack;\n",
    "public class Solution {\n",
    "    public ArrayList<Integer> printListFromTailToHead(ListNode listNode) {\n",
    "        Stack<Integer> temp_stack = new Stack<Integer>();\n",
    "        while(listNode != null){\n",
    "            temp_stack.push(listNode.val);\n",
    "            listNode = listNode.next;\n",
    "        }\n",
    "        ArrayList<Integer> reverse_list = new ArrayList<Integer>();\n",
    "        while(!temp_stack.isEmpty()){\n",
    "            reverse_list.add(temp_stack.pop());\n",
    "        }\n",
    "         return reverse_list;       \n",
    "    }\n",
    "}\n"
   ]
  },
  {
   "cell_type": "code",
   "execution_count": 1,
   "metadata": {},
   "outputs": [
    {
     "name": "stdout",
     "output_type": "stream",
     "text": [
      "[13, 11, 10]\n",
      "None\n",
      "[12]\n"
     ]
    }
   ],
   "source": [
    "'''\n",
    "6 输入一个链表，从尾到头打印链表每个节点的值。\n",
    "'''\n",
    "class ListNode:\n",
    "    def __init__(self, x=None):\n",
    "        self.val = x\n",
    "        self.next = None\n",
    "\n",
    "class Solution:\n",
    "    def printListFromTailToHead(self, listNode):\n",
    "        if listNode.val == None:\n",
    "            return\n",
    "        l = []\n",
    "        head = listNode\n",
    "        while head:\n",
    "            l.insert(0, head.val)\n",
    "            head = head.next\n",
    "        return l\n",
    "\n",
    "node1 = ListNode(10)\n",
    "node2 = ListNode(11)\n",
    "node3 = ListNode(13)\n",
    "node1.next = node2\n",
    "node2.next = node3\n",
    "\n",
    "singleNode = ListNode(12)\n",
    "\n",
    "test = ListNode()\n",
    "\n",
    "S = Solution()\n",
    "print(S.printListFromTailToHead(node1))\n",
    "print(S.printListFromTailToHead(test))\n",
    "print(S.printListFromTailToHead(singleNode))"
   ]
  },
  {
   "cell_type": "code",
   "execution_count": 4,
   "metadata": {},
   "outputs": [
    {
     "name": "stdout",
     "output_type": "stream",
     "text": [
      "[2, 1]\n"
     ]
    }
   ],
   "source": [
    "'''\n",
    "6\n",
    "\n",
    "'''\n",
    "\n",
    "class ListNode:\n",
    "    def __init__(self, x):\n",
    "        self.val = x\n",
    "        self.next = None\n",
    "\n",
    "def printListFromTailToHead(listNode):\n",
    "        ls = []\n",
    "        while listNode != None:\n",
    "            ls.append(listNode.val)\n",
    "            listNode = listNode.next\n",
    "        return ls[::-1]\n",
    "\n",
    "if __name__ == '__main__':\n",
    "    node = ListNode(1)\n",
    "    node.next = ListNode(2)\n",
    "    print(printListFromTailToHead(node))"
   ]
  },
  {
   "cell_type": "code",
   "execution_count": null,
   "metadata": {},
   "outputs": [],
   "source": []
  },
  {
   "cell_type": "markdown",
   "metadata": {},
   "source": [
    "18. Delete a Node in Linkedlist in  O（1） "
   ]
  },
  {
   "cell_type": "markdown",
   "metadata": {},
   "source": [
    "Method 1： traversing and then delete。。。。。 O（n)\n"
   ]
  },
  {
   "cell_type": "markdown",
   "metadata": {},
   "source": [
    "Method 2: tricky idea in O(1).. Copy and adjust pointer.... But with assumptions that"
   ]
  },
  {
   "cell_type": "code",
   "execution_count": 8,
   "metadata": {},
   "outputs": [],
   "source": [
    "class ListNode:\n",
    "    def __init__(self,x):\n",
    "        self.val = x\n",
    "        self.next = None\n",
    "        \n",
    "    def deleteNode(node):\n",
    "        node.val = node.next.val\n",
    "        node.next = node.next.next\n",
    "        "
   ]
  },
  {
   "cell_type": "code",
   "execution_count": 11,
   "metadata": {},
   "outputs": [
    {
     "name": "stdout",
     "output_type": "stream",
     "text": [
      "15\n",
      "None\n",
      "11\n",
      "11\n",
      "None\n"
     ]
    }
   ],
   "source": [
    "'''\n",
    "给定单向链表的头指针和一个结点指针,定义一个函数在O(1)时间删除该结点。 加入特殊情况的处理\n",
    "'''\n",
    "class ListNode:\n",
    "    def __init__(self, x=None):\n",
    "        self.val = x\n",
    "        self.next = None\n",
    "    def __del__(self):\n",
    "        self.val = None\n",
    "        self.next = None\n",
    "\n",
    "class Solution:\n",
    "    def DeleteNode(self, pListHead, pToBeDeleted):\n",
    "        if not pListHead or not pToBeDeleted:\n",
    "            return None\n",
    "\n",
    "        if pToBeDeleted.next != None:\n",
    "            pNext = pToBeDeleted.next\n",
    "            pToBeDeleted.val = pNext.val\n",
    "            pToBeDeleted.next = pNext.next\n",
    "            pNext.__del__()\n",
    "\n",
    "\n",
    "        elif pListHead == pToBeDeleted:# 删除头节点\n",
    "            pToBeDeleted.__del__()\n",
    "            pListHead.__del__()\n",
    "        else:#删除尾节点\n",
    "            pNode = pListHead\n",
    "            while pNode.next != pToBeDeleted:\n",
    "                pNode = pNode.next\n",
    "            pNode.next = None\n",
    "            pToBeDeleted.__del__()\n",
    "\n",
    "\n",
    "node1 = ListNode(10)\n",
    "node2 = ListNode(11)\n",
    "node3 = ListNode(13)\n",
    "node4 = ListNode(15)\n",
    "node1.next = node2\n",
    "node2.next = node3\n",
    "node3.next = node4\n",
    "\n",
    "S = Solution()\n",
    "S.DeleteNode(node1, node3)\n",
    "print(node3.val)\n",
    "S.DeleteNode(node1, node3)\n",
    "print(node3.val)\n",
    "print(node2.val)\n",
    "S.DeleteNode(node1, node1)\n",
    "print(node1.val)\n",
    "S.DeleteNode(node1, node1)\n",
    "print(node1.val)"
   ]
  },
  {
   "cell_type": "code",
   "execution_count": null,
   "metadata": {},
   "outputs": [],
   "source": []
  },
  {
   "cell_type": "code",
   "execution_count": null,
   "metadata": {},
   "outputs": [],
   "source": [
    "22 . Linked List the last K node  -- two pointers / stack / math()"
   ]
  },
  {
   "cell_type": "markdown",
   "metadata": {},
   "source": [
    "面试题15：链表中倒数第k个结点：代码的鲁棒性。需要注意：如果输入的链表为空；k大于链表的长度；k为0的情况。对于正常情况，设置两个指针分别指向头结点，第一个指针向前走k-1步，走到正数第k个结点，同时保持第二个指针不动，然后第一个指针和第二个指针每次同时前移一步，这样第一个指针指向尾结点的时候，第二个指针指向倒数第k个结点。判断尾结点的条件是 pNode.next == None。\n",
    "--------------------- \n",
    "作者：美利坚合众国圣安东尼奥马刺村 \n",
    "来源：CSDN \n",
    "原文：https://blog.csdn.net/u012505432/article/details/52071537 \n",
    "版权声明：本文为博主原创文章，转载请附上博文链接！"
   ]
  },
  {
   "cell_type": "markdown",
   "metadata": {},
   "source": [
    "/*\n",
    "public class ListNode {\n",
    "    int val;\n",
    "    ListNode next = null;\n",
    "\n",
    "    ListNode(int val) {\n",
    "        this.val = val;\n",
    "    }\n",
    "}*/\n",
    "//method2: 双指针 一个先走一个后走\n",
    "// method1: 遍历链表两次，统计链表长度然后第二遍去找那个点   画图找计数上的规律 -----   n-k+1\n",
    "public class Solution {\n",
    "    public ListNode FindKthToTail(ListNode head,int k) {\n",
    "        if(head == null ||  k <= 0){\n",
    "            return null;\n",
    "        }\n",
    "        \n",
    "        ListNode fast = head;\n",
    "        ListNode slow = head;\n",
    "        \n",
    "        for(int i = 0; i < k-1; i++){\n",
    "            if(fast.next != null){\n",
    "                fast=fast.next;\n",
    "            }\n",
    "            else{\n",
    "                return null;\n",
    "            }\n",
    "        }\n",
    "        \n",
    "        while(fast.next != null){\n",
    "            fast = fast.next;\n",
    "            slow = slow.next;\n",
    "        }\n",
    "        \n",
    "        return slow;\n",
    "            \n",
    "            \n",
    "            \n",
    "            \n",
    "            \n",
    "        \n",
    "        \n",
    "        \n",
    "    }\n",
    "}"
   ]
  },
  {
   "cell_type": "markdown",
   "metadata": {},
   "source": [
    "基于上题扩展：\n",
    "\n",
    "删除倒数第N个节点（leetcode） （ 基于上边的程序进行一下指针上的调整）\n",
    "\n",
    "\n",
    "返回链表中点（同样双指针，一个走两步一个走一步） || 一次遍历链表转数组，然后输出数组中间的数\n",
    "\n",
    "、\n"
   ]
  },
  {
   "cell_type": "code",
   "execution_count": null,
   "metadata": {},
   "outputs": [],
   "source": []
  },
  {
   "cell_type": "code",
   "execution_count": null,
   "metadata": {},
   "outputs": [],
   "source": [
    "23. 链表中环的入口节点"
   ]
  },
  {
   "cell_type": "code",
   "execution_count": null,
   "metadata": {},
   "outputs": [],
   "source": []
  },
  {
   "cell_type": "code",
   "execution_count": null,
   "metadata": {},
   "outputs": [],
   "source": []
  },
  {
   "cell_type": "code",
   "execution_count": null,
   "metadata": {},
   "outputs": [],
   "source": []
  },
  {
   "cell_type": "markdown",
   "metadata": {},
   "source": [
    "24.反转链表 // iterative/recursive\n",
    "\n",
    "\n",
    "\n",
    "\n",
    "hints for recusive:\n",
    "\n",
    "The recursive version is slightly trickier and the key is to work backwards. Assume that the rest of the list had already been reversed, now how do I reverse the front part? Let's assume the list is: n1 → … → nk-1 → nk → nk+1 → … → nm → Ø\n",
    "\n",
    "Assume from node nk+1 to nm had been reversed and you are at node nk.\n",
    "\n",
    "n1 → … → nk-1 → nk → nk+1 ← … ← nm\n",
    "\n",
    "We want nk+1’s next node to point to nk.\n",
    "\n",
    "So,\n",
    "\n",
    "nk.next.next = nk;\n",
    "\n",
    "Be very careful that n1's next must point to Ø. If you forget about this, your linked list has a cycle in it. This bug could be caught if you test your code with a linked list of size 2."
   ]
  },
  {
   "cell_type": "code",
   "execution_count": 12,
   "metadata": {},
   "outputs": [
    {
     "name": "stdout",
     "output_type": "stream",
     "text": [
      "11\n"
     ]
    }
   ],
   "source": [
    "'''\n",
    "反转链表\n",
    "输入一个链表，反转链表后，输出链表的所有元素\n",
    "'''\n",
    "\n",
    "# -*- coding:utf-8 -*-\n",
    "class ListNode:\n",
    "    def __init__(self, x):\n",
    "        self.val = x\n",
    "        self.next = None\n",
    "class Solution:\n",
    "    # 返回ListNode\n",
    "    def ReverseList(self, pHead):\n",
    "        pReversedHead = None\n",
    "        pNode = pHead\n",
    "        pPrev = None\n",
    "        while pNode != None:\n",
    "            pNext = pNode.next\n",
    "\n",
    "            if pNext == None:\n",
    "                pReversedHead = pNode\n",
    "\n",
    "            pNode.next = pPrev\n",
    "            pPrev = pNode\n",
    "            pNode = pNext\n",
    "        return pReversedHead\n",
    "    # 递归实现反转链表\n",
    "    def ReverseListRec(self, pHead):\n",
    "        if not pHead or not pHead.next:\n",
    "            return pHead\n",
    "        else:\n",
    "            pReversedHead = self.ReverseList(pHead.next)\n",
    "            pHead.next.next = pHead  #调整当前节点的下一个节点的指针向左指\n",
    "            pHead.next = None \n",
    "            return pReversedHead\n",
    "\n",
    "node1 = ListNode(10)\n",
    "node2 = ListNode(11)\n",
    "node3 = ListNode(13)\n",
    "node1.next = node2\n",
    "node2.next = node3\n",
    "\n",
    "S = Solution()\n",
    "p = S.ReverseList(node1)\n",
    "print(p.next.val)"
   ]
  },
  {
   "cell_type": "code",
   "execution_count": null,
   "metadata": {},
   "outputs": [],
   "source": []
  },
  {
   "cell_type": "markdown",
   "metadata": {},
   "source": [
    "25.合并两个排序链表\n",
    "\n",
    "参考mergesort最后的merge阶段"
   ]
  },
  {
   "cell_type": "code",
   "execution_count": null,
   "metadata": {},
   "outputs": [],
   "source": []
  },
  {
   "cell_type": "code",
   "execution_count": null,
   "metadata": {},
   "outputs": [],
   "source": []
  },
  {
   "cell_type": "code",
   "execution_count": null,
   "metadata": {},
   "outputs": [],
   "source": []
  },
  {
   "cell_type": "code",
   "execution_count": null,
   "metadata": {},
   "outputs": [],
   "source": [
    "35.复杂链表的复制"
   ]
  },
  {
   "cell_type": "code",
   "execution_count": null,
   "metadata": {},
   "outputs": [],
   "source": []
  },
  {
   "cell_type": "code",
   "execution_count": null,
   "metadata": {},
   "outputs": [],
   "source": []
  },
  {
   "cell_type": "code",
   "execution_count": null,
   "metadata": {},
   "outputs": [],
   "source": []
  },
  {
   "cell_type": "code",
   "execution_count": null,
   "metadata": {},
   "outputs": [],
   "source": []
  },
  {
   "cell_type": "code",
   "execution_count": null,
   "metadata": {},
   "outputs": [],
   "source": []
  },
  {
   "cell_type": "code",
   "execution_count": null,
   "metadata": {},
   "outputs": [],
   "source": [
    "52. 两个链表的第一个公共节点"
   ]
  },
  {
   "cell_type": "code",
   "execution_count": null,
   "metadata": {},
   "outputs": [],
   "source": []
  },
  {
   "cell_type": "code",
   "execution_count": null,
   "metadata": {},
   "outputs": [],
   "source": []
  },
  {
   "cell_type": "code",
   "execution_count": null,
   "metadata": {},
   "outputs": [],
   "source": []
  },
  {
   "cell_type": "markdown",
   "metadata": {},
   "source": [
    "36. Linked List and BST"
   ]
  },
  {
   "cell_type": "code",
   "execution_count": null,
   "metadata": {},
   "outputs": [],
   "source": []
  },
  {
   "cell_type": "code",
   "execution_count": null,
   "metadata": {},
   "outputs": [],
   "source": []
  },
  {
   "cell_type": "code",
   "execution_count": null,
   "metadata": {},
   "outputs": [],
   "source": []
  },
  {
   "cell_type": "code",
   "execution_count": null,
   "metadata": {},
   "outputs": [],
   "source": []
  },
  {
   "cell_type": "markdown",
   "metadata": {},
   "source": [
    "62. 圆圈中最后剩下的数字"
   ]
  },
  {
   "cell_type": "code",
   "execution_count": null,
   "metadata": {},
   "outputs": [],
   "source": []
  },
  {
   "cell_type": "code",
   "execution_count": null,
   "metadata": {},
   "outputs": [],
   "source": []
  },
  {
   "cell_type": "code",
   "execution_count": null,
   "metadata": {},
   "outputs": [],
   "source": []
  },
  {
   "cell_type": "code",
   "execution_count": null,
   "metadata": {},
   "outputs": [],
   "source": []
  },
  {
   "cell_type": "code",
   "execution_count": null,
   "metadata": {},
   "outputs": [],
   "source": []
  }
 ],
 "metadata": {
  "kernelspec": {
   "display_name": "Python 3",
   "language": "python",
   "name": "python3"
  },
  "language_info": {
   "codemirror_mode": {
    "name": "ipython",
    "version": 3
   },
   "file_extension": ".py",
   "mimetype": "text/x-python",
   "name": "python",
   "nbconvert_exporter": "python",
   "pygments_lexer": "ipython3",
   "version": "3.6.5"
  }
 },
 "nbformat": 4,
 "nbformat_minor": 2
}
