{
 "cells": [
  {
   "cell_type": "code",
   "execution_count": 1,
   "metadata": {},
   "outputs": [
    {
     "name": "stdout",
     "output_type": "stream",
     "text": [
      "[1, 2, 3]\n",
      "['SofaSofa', 'Machine Learning', 'Python', 'Data Science']\n",
      "[True, False, False]\n",
      "[2017, 'SofaSofa', 3.1415, True]\n",
      "[]\n"
     ]
    }
   ],
   "source": [
    "# 定义一个数值组成的list\n",
    "list_1 = [1, 2, 3]\n",
    "print (list_1)\n",
    "\n",
    "# 定义一个字符组成的list\n",
    "list_2 = ['SofaSofa', 'Machine Learning', 'Python', 'Data Science']\n",
    "print (list_2)\n",
    "\n",
    "# 定义一个布尔型组成的list\n",
    "list_3 = [True, False, False]\n",
    "print (list_3)\n",
    "\n",
    "# 定义一个混合类型的list\n",
    "list_4 = [2017, 'SofaSofa', 3.1415, True]\n",
    "print (list_4)\n",
    "\n",
    "# 定义一个空list\n",
    "list_5 = []\n",
    "print(list_5)"
   ]
  },
  {
   "cell_type": "markdown",
   "metadata": {},
   "source": [
    "list中的元素可以是数字、字符，也可以是一个list。下面我们就定义了嵌套的list。"
   ]
  },
  {
   "cell_type": "code",
   "execution_count": 3,
   "metadata": {},
   "outputs": [
    {
     "name": "stdout",
     "output_type": "stream",
     "text": [
      "4 3 1\n"
     ]
    }
   ],
   "source": [
    "list_1 = [1, 2, [2, 3], [3, 4, 5]]\n",
    "list_2 = [2, 3, list_1]\n",
    "list_3 = [list_2]\n",
    "\n",
    "# 想一想list_1, list_2和list_3的长度分别是多少？\n",
    "print (len(list_1), len(list_2), len(list_3))"
   ]
  },
  {
   "cell_type": "markdown",
   "metadata": {},
   "source": [
    "list 切片的做法同string"
   ]
  },
  {
   "cell_type": "code",
   "execution_count": 5,
   "metadata": {},
   "outputs": [
    {
     "name": "stdout",
     "output_type": "stream",
     "text": [
      "[0, 7, 6, 5]\n",
      "[1, 6, 1]\n",
      "[1, 6, 1, 8]\n",
      "[2, 7, 2, 0]\n",
      "[8, 4, 0, 1, 5, 2, 6, 0, 7, 1, 0, 2]\n",
      "[8, 0, 5, 6, 7, 0]\n"
     ]
    }
   ],
   "source": [
    "my_list = [2, 0, 1, 7, 0, 6, 2, 5, 1, 0, 4, 8]\n",
    "# 输出第2，4，6，8个元素\n",
    "a = my_list[1:8:2]\n",
    "print (a)\n",
    "# 输出第3，6，9个元素\n",
    "a = my_list[2:9:3]\n",
    "print (a)\n",
    "# 从第3个元素开始，每3个元素读取一个元素\n",
    "a = my_list[2::3]\n",
    "print (a)\n",
    "# 每3个元素读取一个元素\n",
    "a = my_list[::3]\n",
    "print (a)\n",
    "\n",
    "my_list = [1, 2, 3, 4, 5, 6, 7, 8, 9, 0]\n",
    "# 按顺序取出第2，4，6，8个元素，存放在list_1中\n",
    "list_1 = [my_list[i] for i in [1, 3, 5, 7]]\n",
    "# 按顺序取出第4，1，5个元素，存放在list_2中\n",
    "list_2 = [my_list[i] for i in [3, 0, 4]]\n",
    "\n",
    "my_list = [2, 0, 1, 7, 0, 6, 2, 5, 1, 0, 4, 8]\n",
    "a = my_list[::-1]\n",
    "print (a)\n",
    "#试试看下面返回什么呢？\n",
    "a = my_list[::-2]\n",
    "print (a)"
   ]
  },
  {
   "cell_type": "code",
   "execution_count": 6,
   "metadata": {},
   "outputs": [
    {
     "name": "stdout",
     "output_type": "stream",
     "text": [
      "[4, 5, 2]\n",
      "5\n"
     ]
    }
   ],
   "source": [
    "#读取嵌套list中的元素。\n",
    "list_1 = [[1, 2, 3], [2], [4, 5, 2], 2]\n",
    "#试试看\n",
    "print (list_1[2])\n",
    "print (list_1[2][1])"
   ]
  },
  {
   "cell_type": "code",
   "execution_count": null,
   "metadata": {},
   "outputs": [],
   "source": [
    "# #3. range函数\n",
    "# range函数可生成一个整数列list。\n",
    "\n",
    "# range(n)返回一个0到n-1的list。\n",
    "\n",
    "# range(m, n)返回一个m到n-1的list。\n",
    "\n",
    "# range(m, n, s)返回一个m到n-1步长为s的list。\n",
    "\n",
    "# a = range(5)"
   ]
  },
  {
   "cell_type": "code",
   "execution_count": 14,
   "metadata": {},
   "outputs": [
    {
     "name": "stdout",
     "output_type": "stream",
     "text": [
      "0\n",
      "1\n",
      "2\n",
      "3\n",
      "4\n",
      "\n",
      "\n",
      "3\n",
      "4\n",
      "5\n",
      "6\n",
      "7\n",
      "8\n",
      "9\n",
      "\n",
      "\n",
      "2\n",
      "4\n",
      "6\n",
      "8\n",
      "\n",
      "\n",
      "10\n",
      "8\n",
      "6\n",
      "4\n",
      "2\n",
      "0\n",
      "-2\n",
      "-4\n",
      "-6\n",
      "-8\n"
     ]
    }
   ],
   "source": [
    "for i in range(5):\n",
    "    print (i)\n",
    "print('\\n')\n",
    "for b in range(3, 10):\n",
    "    print (b)\n",
    "print('\\n')\n",
    "for c in range(2, 10, 2):\n",
    "    print (c)\n",
    "print('\\n')\n",
    "for d in range(10, -10, -2):\n",
    "    print (d)"
   ]
  },
  {
   "cell_type": "code",
   "execution_count": 15,
   "metadata": {},
   "outputs": [
    {
     "name": "stdout",
     "output_type": "stream",
     "text": [
      "False\n",
      "True\n",
      "False\n",
      "True\n",
      "False\n"
     ]
    }
   ],
   "source": [
    "my_list = range(2, 10, 2)\n",
    "\n",
    "print (3 in my_list)\n",
    "print (6 in my_list)\n",
    "print ([6] in my_list)\n",
    "\n",
    "#试试看使用not会是什么效果\n",
    "\n",
    "print (3 not in my_list)\n",
    "print (6 not in my_list)"
   ]
  },
  {
   "cell_type": "code",
   "execution_count": 19,
   "metadata": {},
   "outputs": [
    {
     "name": "stdout",
     "output_type": "stream",
     "text": [
      "1\n",
      "2\n",
      "3\n",
      "3\n",
      "\n",
      "\n",
      "3\n",
      "3\n",
      "1\n",
      "2\n",
      "\n",
      "\n",
      "3\n",
      "[3, 1]\n",
      "[2]\n",
      "\n",
      "\n"
     ]
    }
   ],
   "source": [
    "for k in [1, 2, 3, 3]:\n",
    "    print(k)\n",
    "print('\\n')\n",
    "# 想想下面的循环会输出什么样的结果\n",
    "for k in [3, 3, 1, 2]:\n",
    "    print (k)\n",
    "print('\\n')\n",
    "for k in [3, [3, 1], [2]]:\n",
    "    print (k)\n",
    "print('\\n')"
   ]
  },
  {
   "cell_type": "markdown",
   "metadata": {},
   "source": [
    "# 5.list与enumerate"
   ]
  },
  {
   "cell_type": "code",
   "execution_count": 20,
   "metadata": {},
   "outputs": [
    {
     "name": "stdout",
     "output_type": "stream",
     "text": [
      "[(0, 'data'), (1, 'stat'), (2, 'python'), (3, 'java'), (4, 'fun'), (5, 'sofasofa')]\n",
      "0 data\n",
      "1 stat\n",
      "2 python\n",
      "3 java\n",
      "4 fun\n",
      "5 sofasofa\n"
     ]
    }
   ],
   "source": [
    "#库函数enumerate提供了另外一种对list遍历的方法\n",
    "\n",
    "#定义一个list\n",
    "my_list = ['data', 'stat', 'python', 'java', 'fun', 'sofasofa']\n",
    "\n",
    "#enumerate(my_list)将枚举该list中的 index和元素。\n",
    "print (list(enumerate(my_list)))\n",
    "\n",
    "#当我们使用for与enumerate，可以同时得到 index和element\n",
    "for i, j in enumerate(my_list):\n",
    "    print (i, j)"
   ]
  },
  {
   "cell_type": "markdown",
   "metadata": {},
   "source": [
    "# 6. 判断list是否为空"
   ]
  },
  {
   "cell_type": "code",
   "execution_count": 23,
   "metadata": {},
   "outputs": [
    {
     "name": "stdout",
     "output_type": "stream",
     "text": [
      "It is empty!\n",
      "It is not empty!\n"
     ]
    },
    {
     "data": {
      "text/plain": [
       "False"
      ]
     },
     "execution_count": 23,
     "metadata": {},
     "output_type": "execute_result"
    }
   ],
   "source": [
    "#先定义三个list\n",
    "list_1 = []\n",
    "list_2 = [   ]\n",
    "list_3 = [1]\n",
    "\n",
    "#第一个方法是通过list的长度来判断是否为空\n",
    "if len(list_1) == 0:\n",
    "    print ('It is empty!')\n",
    "else:\n",
    "    print ('It is not empty!')\n",
    "\n",
    "#第二个方法是使用not\n",
    "if not list_3:\n",
    "    print ('It is empty!')\n",
    "else:\n",
    "    print ('It is not empty!')\n",
    "\n",
    "# 用上面的方法在list_2, list_3上试试吧\n",
    "list_3 == False"
   ]
  },
  {
   "cell_type": "markdown",
   "metadata": {},
   "source": [
    "# 7. list的串联"
   ]
  },
  {
   "cell_type": "code",
   "execution_count": 24,
   "metadata": {},
   "outputs": [
    {
     "name": "stdout",
     "output_type": "stream",
     "text": [
      "[1]\n",
      "[2, 3, 4, 1] [1, 2, 3, 4]\n",
      "[1, 2, 4, 8]\n",
      "[1, 2, 4, 8, 1]\n"
     ]
    },
    {
     "ename": "TypeError",
     "evalue": "'int' object is not iterable",
     "output_type": "error",
     "traceback": [
      "\u001b[1;31m---------------------------------------------------------------------------\u001b[0m",
      "\u001b[1;31mTypeError\u001b[0m                                 Traceback (most recent call last)",
      "\u001b[1;32m<ipython-input-24-15611284c764>\u001b[0m in \u001b[0;36m<module>\u001b[1;34m()\u001b[0m\n\u001b[0;32m     15\u001b[0m \u001b[0mlist_1\u001b[0m \u001b[1;33m+=\u001b[0m \u001b[1;33m[\u001b[0m\u001b[1;36m1\u001b[0m\u001b[1;33m]\u001b[0m\u001b[1;33m\u001b[0m\u001b[0m\n\u001b[0;32m     16\u001b[0m \u001b[0mprint\u001b[0m \u001b[1;33m(\u001b[0m\u001b[0mlist_1\u001b[0m\u001b[1;33m)\u001b[0m\u001b[1;33m\u001b[0m\u001b[0m\n\u001b[1;32m---> 17\u001b[1;33m \u001b[0mlist_1\u001b[0m \u001b[1;33m+=\u001b[0m \u001b[1;36m1\u001b[0m\u001b[1;33m\u001b[0m\u001b[0m\n\u001b[0m\u001b[0;32m     18\u001b[0m \u001b[0mprint\u001b[0m \u001b[1;33m(\u001b[0m\u001b[0mlist_1\u001b[0m\u001b[1;33m)\u001b[0m\u001b[1;33m\u001b[0m\u001b[0m\n\u001b[0;32m     19\u001b[0m \u001b[1;33m\u001b[0m\u001b[0m\n",
      "\u001b[1;31mTypeError\u001b[0m: 'int' object is not iterable"
     ]
    }
   ],
   "source": [
    "#第一种方法是使用+：\n",
    "list_1 = []\n",
    "list_2 = list_1 + [1]\n",
    "print (list_2)\n",
    "\n",
    "list_3 = [2, 3, 4] + list_2\n",
    "list_4 = list_2 + [2, 3, 4]\n",
    "print (list_3, list_4)\n",
    "\n",
    "#再试试+=\n",
    "list_1 = [1, 2]\n",
    "list_1 += [4, 8]\n",
    "print (list_1)\n",
    "\n",
    "#注意，即使是添加一个元素，也需要使用[]，不然则会报错。\n",
    "list_1 += [1]\n",
    "print (list_1)\n",
    "list_1 += 1\n",
    "print (list_1)\n",
    "\n",
    "\n"
   ]
  },
  {
   "cell_type": "markdown",
   "metadata": {},
   "source": [
    "第二种方法是使用.append()方法。\n",
    "\n",
    "对于刚刚接触Python的朋友，这里我们需要额外补充一下。Python是一种面向对象的语言，list是一个类，所以当我们定义了一个list之后，这个list就是一个对象。.append()是list这类对象中一个通用的方法。list_1.append(x)的作用是在list_1的结尾增加元素x。当我们调用这个方法时，我们不再需要对list_1重新赋值，因为.append()这个方法已经改变了list_1。\n",
    "\n",
    "下面的例子我们具体来体会append."
   ]
  },
  {
   "cell_type": "code",
   "execution_count": 25,
   "metadata": {},
   "outputs": [
    {
     "name": "stdout",
     "output_type": "stream",
     "text": [
      "[1, 2, 3, 4]\n",
      "[1, 2, 3, 4, [5, 6]]\n",
      "[1, 3, 5, 2, 4, 6]\n",
      "None\n"
     ]
    }
   ],
   "source": [
    "list_1 = [1, 2, 3]\n",
    "list_1.append(4)\n",
    "print (list_1)\n",
    "\n",
    "#append(x)只能在list末尾增加一个元素，而非真正做到将两个list串联。\n",
    "list_1.append([5, 6])\n",
    "print (list_1)\n",
    "\n",
    "#若希望将list_1和list_2串联，我们可以通过如下for循环实现\n",
    "list_1, list_2 = [1, 3, 5], [2, 4, 6]\n",
    "[list_1.append(i) for i in list_2]\n",
    "print (list_1)\n",
    "\n",
    "#特别需要值得注意的是append方法本身并没有返回值，list_1 = list_1.append(x)的操作结果是将list_1赋值为空（并不是空list）。\n",
    "list_1 = [1, 2]\n",
    "list_1.append(5)\n",
    "#此时list_1 = [1, 2, 5]\n",
    "list_1 = list_1.append(7)\n",
    "#此时list_1为None。\n",
    "print (list_1)"
   ]
  },
  {
   "cell_type": "markdown",
   "metadata": {},
   "source": [
    "第三种方法是使用.extend()方法。\n",
    "\n",
    "与.append()类似，这是一种对象方法。若我们需要将list_2串联在list_1末尾，list_1.extend(list_2);若我们需要将元素x串联在list_1末尾，list_1.extend([x])。"
   ]
  },
  {
   "cell_type": "code",
   "execution_count": 26,
   "metadata": {},
   "outputs": [
    {
     "name": "stdout",
     "output_type": "stream",
     "text": [
      "[1, 3, 5, 2, 4, 6]\n",
      "[1, 3, 5, 2, 4, 6, 9]\n",
      "[1, 3, 5, 2, 4, 6, 9, 'finish']\n",
      "None\n"
     ]
    }
   ],
   "source": [
    "list_1, list_2 = [1, 3, 5], [2, 4, 6]\n",
    "list_1.extend(list_2)\n",
    "print(list_1)\n",
    "#此时list_1 = [1, 3, 5, 2, 4, 6]\n",
    "list_1.extend([9])\n",
    "#此时list_1 = [1, 3, 5, 2, 4, 6, 9]\n",
    "print(list_1)\n",
    "#试试下面的操作，list_1，list_2分别是什么。\n",
    "list_2 = list_1.extend(['finish'])\n",
    "#此时list_1 = [1, 3, 5, 2, 4, 6, 9, 'finish']\n",
    "#此时list_2为None。\n",
    "print(list_1)\n",
    "print(list_2)"
   ]
  },
  {
   "cell_type": "markdown",
   "metadata": {},
   "source": [
    "# 8. 更改、插入元素"
   ]
  },
  {
   "cell_type": "code",
   "execution_count": 27,
   "metadata": {},
   "outputs": [
    {
     "name": "stdout",
     "output_type": "stream",
     "text": [
      "[1, 3, 9, 7]\n",
      "[1, 3, 6, 7]\n"
     ]
    }
   ],
   "source": [
    "my_list = [1, 3, 5, 7]\n",
    "my_list[2] = 9\n",
    "print (my_list)\n",
    "my_list[2] -= 3\n",
    "print (my_list)"
   ]
  },
  {
   "cell_type": "code",
   "execution_count": 28,
   "metadata": {},
   "outputs": [
    {
     "name": "stdout",
     "output_type": "stream",
     "text": [
      "[1, 3, 5, 7, 9]\n",
      "[2, 1, 3, 5, 7, 9]\n",
      "[2, 1, 3, 5, 7, 9, 4]\n",
      "[2, 1, 3, 6, 5, 7, 9, 4]\n"
     ]
    }
   ],
   "source": [
    "#my_list.insert(i, x)的作用是将元素x插入在index为i的位置上。\n",
    "\n",
    "#定义一个list\n",
    "my_list = [1, 3, 5, 7, 9]\n",
    "print (my_list)\n",
    "\n",
    "#在list的头部插入元素2\n",
    "my_list.insert(0, 2)\n",
    "print (my_list)\n",
    "\n",
    "#在list的末尾插入元素4\n",
    "my_list.insert(len(my_list), 4)\n",
    "print (my_list)\n",
    "\n",
    "#在list的index为3的位置上插入元素6\n",
    "my_list.insert(3, 6)\n",
    "print (my_list)"
   ]
  },
  {
   "cell_type": "markdown",
   "metadata": {},
   "source": [
    "# 9. 删除元素"
   ]
  },
  {
   "cell_type": "code",
   "execution_count": 29,
   "metadata": {},
   "outputs": [
    {
     "name": "stdout",
     "output_type": "stream",
     "text": [
      "[1, 3, 5, 2, 4, 6]\n",
      "[1, 3, 5, 4, 6]\n",
      "[1, 3, 5, 6]\n"
     ]
    }
   ],
   "source": [
    "#del\n",
    "\n",
    "my_list = [1, 3, 5, 2, 4, 6]\n",
    "print (my_list)\n",
    "#删除index为3的元素。\n",
    "del my_list[3]\n",
    "print (my_list)\n",
    "#继续删除index为3的元素。\n",
    "del my_list[3]\n",
    "print (my_list)"
   ]
  },
  {
   "cell_type": "markdown",
   "metadata": {},
   "source": [
    "第二种方法是使用.pop。my_list.pop(i)的作用是“弹出”my_list中的index为i的元素。"
   ]
  },
  {
   "cell_type": "code",
   "execution_count": 30,
   "metadata": {},
   "outputs": [
    {
     "name": "stdout",
     "output_type": "stream",
     "text": [
      "[1, 3, 5, 2, 4, 6, 8, 7]\n",
      "[1, 3, 5, 4, 6, 8, 7]\n",
      "[1, 3, 5, 6, 8, 7]\n",
      "4\n",
      "[1, 3, 5, 2, 4, 6, 8, 7]\n",
      "[1, 3, 5, 2, 4, 6, 8]\n"
     ]
    }
   ],
   "source": [
    "my_list = [1, 3, 5, 2, 4, 6, 8, 7]\n",
    "print (my_list)\n",
    "#删除index为3的元素。\n",
    "my_list.pop(3)\n",
    "print (my_list)\n",
    "\n",
    "#与append不同的是，pop有返回值，其返回值就是那个被弹出的元素\n",
    "poped_num = my_list.pop(3)\n",
    "print (my_list)\n",
    "print (poped_num)\n",
    "\n",
    "#my_list.pop()将会弹出my_list中最末尾的那个元素\n",
    "my_list = [1, 3, 5, 2, 4, 6, 8, 7]\n",
    "print (my_list)\n",
    "my_list.pop()\n",
    "print (my_list)"
   ]
  },
  {
   "cell_type": "markdown",
   "metadata": {},
   "source": [
    "第三种方法是使用.remove，remove不是直接删去指定index上的元素，而是删去指定数值的元素。my_list.remove(2)就是删除my_list中是2的元素，如果有多个2，那就删除index最小的那个。"
   ]
  },
  {
   "cell_type": "code",
   "execution_count": 35,
   "metadata": {},
   "outputs": [
    {
     "name": "stdout",
     "output_type": "stream",
     "text": [
      "[1, 99, 5, 1, 99, 5, 1, 99, 5]\n",
      "[1, 5, 1, 99, 5, 1, 99, 5]\n",
      "[1, 5, 1, 5, 1, 99, 5]\n",
      "[1, 5, 1, 5, 1, 5]\n",
      "['Beijing', 'Shanghai', 'Hong Kong', 'Shenzhen', 'New York', 'Nanjing']\n",
      "['Beijing', 'Shanghai', 'Hong Kong', 'Shenzhen', 'Nanjing']\n"
     ]
    }
   ],
   "source": [
    "my_list = [1, 99, 5, 1, 99, 5, 1, 99, 5]\n",
    "print (my_list)\n",
    "my_list.remove(99)\n",
    "print (my_list)\n",
    "my_list.remove(99)\n",
    "print (my_list)\n",
    "my_list.remove(99)\n",
    "print (my_list)\n",
    "\n",
    "#remove也同样使用于元素为其他类型的list\n",
    "my_list = ['Beijing', 'Shanghai', 'Hong Kong', 'Shenzhen', 'New York', 'Nanjing']\n",
    "print (my_list)\n",
    "my_list.remove('New York')\n",
    "print (my_list)"
   ]
  },
  {
   "cell_type": "markdown",
   "metadata": {},
   "source": [
    "# 10. 复制list"
   ]
  },
  {
   "cell_type": "markdown",
   "metadata": {},
   "source": [
    "这里的‘复制’有两种不同的含义和效果：\n",
    "\n",
    "一种是对于list_1=[a, b, c]，我们如何得到list_2=[a, b, c, a, b, c, a, b, c]，也就是将list_1重复多次"
   ]
  },
  {
   "cell_type": "code",
   "execution_count": 40,
   "metadata": {},
   "outputs": [
    {
     "name": "stdout",
     "output_type": "stream",
     "text": [
      "['data', 'science', 'sofasofa']\n",
      "['data', 'science', 'sofasofa', 'data', 'science', 'sofasofa', 'data', 'science', 'sofasofa']\n",
      "['data', 'science', 'sofasofa', 'data', 'science', 'sofasofa', 'data', 'science', 'sofasofa']\n",
      "['data', 'science', 'sofasofa', 'data', 'science', 'sofasofa']\n"
     ]
    }
   ],
   "source": [
    "my_list = ['data', 'science', 'sofasofa']\n",
    "print (my_list)\n",
    "# 将my_list重复三次\n",
    "new_list = my_list * 3\n",
    "print (new_list)\n",
    "new_list = 3 * my_list\n",
    "print (new_list)\n",
    "my_list.extend(my_list)\n",
    "print(my_list)\n"
   ]
  },
  {
   "cell_type": "markdown",
   "metadata": {},
   "source": [
    "另一种是对于list_1=[a, b, c]，我们如何得到list_2=[a, b, c]。也就是说生成一个新的list，和原来的list一模一样。此时，我们需要格外注意：复制地址与复制数值的区别。\n",
    "\n",
    "下面的例子是地址的复制，也就是说两个变量同时指向内存中的同一个list。当其中一个被更改，例外一个也会被更改。"
   ]
  },
  {
   "cell_type": "code",
   "execution_count": 41,
   "metadata": {},
   "outputs": [
    {
     "name": "stdout",
     "output_type": "stream",
     "text": [
      "list_1 [1, 3, 5]\n",
      "list_2 [1, 3, 5]\n",
      "list_1 [1, 99, 5]\n",
      "list_2 [1, 99, 5]\n",
      "list_2 [1, 99, 5, 999]\n",
      "list_1 [1, 99, 5, 999]\n"
     ]
    }
   ],
   "source": [
    "list_1 = [1, 3, 5]\n",
    "list_2 = list_1\n",
    "print ('list_1', list_1)\n",
    "print ('list_2', list_2)\n",
    "list_1[1] = 99\n",
    "print ('list_1', list_1)\n",
    "# 虽然赋值操作是对list_1进行的，但是list_2也同样被改变了。\n",
    "print ('list_2', list_2)\n",
    "\n",
    "#同样，如果我们对list_2做更改，list_1也会被改变\n",
    "list_2 += [999]\n",
    "print ('list_2', list_2)\n",
    "print ('list_1', list_1)"
   ]
  },
  {
   "cell_type": "markdown",
   "metadata": {},
   "source": [
    "当我们只需要复制数值而非地址时，我们可以使用list_2 = list(list_1)或者list_2 = list_1[:]来完成。例子如下："
   ]
  },
  {
   "cell_type": "code",
   "execution_count": 42,
   "metadata": {},
   "outputs": [
    {
     "name": "stdout",
     "output_type": "stream",
     "text": [
      "list_1 [1, 3, 5]\n",
      "list_2 [1, 3, 5]\n",
      "list_1 [1, 99, 5]\n",
      "list_2 [1, 3, 5]\n",
      "list_1 [1, 3, 5]\n",
      "list_2 [1, 3, 5]\n",
      "list_3 [1, 3, 5]\n",
      "list_1 [1, 3, 5, 99]\n",
      "list_2 [1, 3, 5]\n"
     ]
    }
   ],
   "source": [
    "# list(list_1)\n",
    "list_1 = [1, 3, 5]\n",
    "list_2 = list(list_1)\n",
    "print ('list_1', list_1)\n",
    "print ('list_2', list_2)\n",
    "list_1[1] = 99\n",
    "print ('list_1', list_1)\n",
    "print ('list_2', list_2)\n",
    "\n",
    "# list_1[:]\n",
    "list_1 = [1, 3, 5]\n",
    "list_2 = list_1[:]\n",
    "list_3 = list_1[::]\n",
    "print ('list_1', list_1)\n",
    "print ('list_2', list_2)\n",
    "print ('list_3', list_3)\n",
    "list_1 += [99]\n",
    "print ('list_1', list_1)\n",
    "print ('list_2', list_2)"
   ]
  },
  {
   "cell_type": "markdown",
   "metadata": {},
   "source": [
    "# 11. 其他常用操作"
   ]
  },
  {
   "cell_type": "code",
   "execution_count": 43,
   "metadata": {},
   "outputs": [
    {
     "name": "stdout",
     "output_type": "stream",
     "text": [
      "['Taiwan', 'is', 'a', 'part', 'of', 'China.']\n",
      "['China.', 'of', 'part', 'a', 'is', 'Taiwan']\n"
     ]
    }
   ],
   "source": [
    "#my_list.reverse()：对list取逆，等同于my_list = my_list[::-1]。\n",
    "my_list = ['Taiwan', 'is', 'a', 'part', 'of', 'China.']\n",
    "print (my_list)\n",
    "my_list.reverse()\n",
    "print (my_list)"
   ]
  },
  {
   "cell_type": "code",
   "execution_count": 44,
   "metadata": {},
   "outputs": [
    {
     "name": "stdout",
     "output_type": "stream",
     "text": [
      "2\n",
      "1\n",
      "0\n"
     ]
    }
   ],
   "source": [
    "#my_list.count(a):返回my_list中a的个数。\n",
    "my_list = ['Jiangsu', 'Anhui', 'Jiangsu', 'Guangdong', 'Taiwan', 'Shandong']\n",
    "print (my_list.count('Jiangsu'))\n",
    "print (my_list.count('Anhui'))\n",
    "print (my_list.count('California'))"
   ]
  },
  {
   "cell_type": "code",
   "execution_count": 45,
   "metadata": {},
   "outputs": [
    {
     "name": "stdout",
     "output_type": "stream",
     "text": [
      "[1, 3, 9, 2, 4, 8]\n",
      "[1, 2, 3, 4, 8, 9]\n",
      "['Jiangsu', 'Anhui', 'Jiangsu', 'Guangdong', 'Taiwan', 'Shandong']\n",
      "['Anhui', 'Guangdong', 'Jiangsu', 'Jiangsu', 'Shandong', 'Taiwan']\n"
     ]
    }
   ],
   "source": [
    "#my_list.sort()：对my_list元素进行排序。如果是数值，按照从小到大的顺序；若是字符，按照首字母顺序排列。\n",
    "#数值\n",
    "my_list = [1, 3, 9, 2, 4, 8]\n",
    "print (my_list)\n",
    "my_list.sort()\n",
    "print (my_list)\n",
    "\n",
    "#字符串\n",
    "my_list = ['Jiangsu', 'Anhui', 'Jiangsu', 'Guangdong', 'Taiwan', 'Shandong']\n",
    "print (my_list)\n",
    "my_list.sort()\n",
    "print (my_list)"
   ]
  },
  {
   "cell_type": "markdown",
   "metadata": {},
   "source": [
    "# 12.综合练习："
   ]
  },
  {
   "cell_type": "code",
   "execution_count": null,
   "metadata": {},
   "outputs": [],
   "source": [
    "'''\n",
    "1. 设计函数squares_even(n)。\n",
    "输入值n为正整数。squares_even(n)返回一个list，其元素为所有1到n之间的偶数的平方。例如：\n",
    "\n",
    "squares_even(7)的返回值为[4, 16, 36]。squares_even(10)的返回值为[4, 16, 36, 64, 100]。\n",
    "\n",
    "2. 设计函数remove_duplicates(my_list)。\n",
    "若my_list中有元素重复出现，我们只保留第一个。例如：\n",
    "\n",
    "remove_duplicates([1, 3, 5, 3, 2, 2])的返回值为[1, 3, 5, 2]\n",
    "\n",
    "3. 设计函数find_max(my_list)。\n",
    "my_list是一个元素为数值的list。该函数返回my_list中最大值的index，若最大值不唯一，则返回第一个最大值的index。例如：\n",
    "\n",
    "find_max([1, 3, 5, 3, 2, 2])的返回值为2。find_max([1, 7, 5, 7])的返回值为1。\n",
    "\n",
    "4. 设计函数decrease(my_list)。\n",
    "my_list是一个元素为数值的list。该decrease函数按照降序、从大到小返回my_list中所有元素。例如：\n",
    "\n",
    "decrease([1, 2, 5, 4])的返回值为[5, 4, 2, 1]。decrease([1, -1, -1, 1])的返回值为[1, 1, -1, -1]。\n",
    "'''\n"
   ]
  },
  {
   "cell_type": "code",
   "execution_count": 49,
   "metadata": {},
   "outputs": [
    {
     "data": {
      "text/plain": [
       "[4, 16, 36, 64, 100]"
      ]
     },
     "execution_count": 49,
     "metadata": {},
     "output_type": "execute_result"
    }
   ],
   "source": [
    "def squares_even(n):\n",
    "    result = []\n",
    "    for i in range(1,n+1):\n",
    "        if i%2 == 0 :\n",
    "            result.append(i**2)\n",
    "    return result\n",
    "squares_even(10)"
   ]
  },
  {
   "cell_type": "code",
   "execution_count": 50,
   "metadata": {},
   "outputs": [
    {
     "data": {
      "text/plain": [
       "[1, 3, 5, 2]"
      ]
     },
     "execution_count": 50,
     "metadata": {},
     "output_type": "execute_result"
    }
   ],
   "source": [
    "def remove_duplicates(my_list):\n",
    "    result = []\n",
    "    for item in my_list:\n",
    "        if item not in result:\n",
    "            result.append(item)\n",
    "    return result\n",
    "remove_duplicates([1, 3, 5, 3, 2, 2])"
   ]
  },
  {
   "cell_type": "code",
   "execution_count": 53,
   "metadata": {},
   "outputs": [
    {
     "name": "stdout",
     "output_type": "stream",
     "text": [
      "2\n",
      "1\n"
     ]
    }
   ],
   "source": [
    "def find_max(my_list):\n",
    "    x = max(my_list)\n",
    "    return my_list.index(x)\n",
    "        \n",
    "print(find_max([1, 3, 5, 3, 2, 2]))\n",
    "print(find_max([1, 7, 5, 7]))"
   ]
  },
  {
   "cell_type": "code",
   "execution_count": 62,
   "metadata": {},
   "outputs": [
    {
     "name": "stdout",
     "output_type": "stream",
     "text": [
      "[5, 4, 2, 1]\n",
      "[1, 1, -1, -1]\n",
      "[4, 3, 1, -1]\n"
     ]
    }
   ],
   "source": [
    "def decrease(my_list):\n",
    "    my_list.sort()\n",
    "    my_list.reverse()\n",
    "    return my_list\n",
    "print(decrease([1, 2, 5, 4]))\n",
    "print(decrease([1, -1, -1, 1]))\n",
    "print (decrease([3, 4, -1, 1]))"
   ]
  },
  {
   "cell_type": "code",
   "execution_count": null,
   "metadata": {},
   "outputs": [],
   "source": []
  }
 ],
 "metadata": {
  "kernelspec": {
   "display_name": "Python 3",
   "language": "python",
   "name": "python3"
  },
  "language_info": {
   "codemirror_mode": {
    "name": "ipython",
    "version": 3
   },
   "file_extension": ".py",
   "mimetype": "text/x-python",
   "name": "python",
   "nbconvert_exporter": "python",
   "pygments_lexer": "ipython3",
   "version": "3.6.5"
  }
 },
 "nbformat": 4,
 "nbformat_minor": 2
}
