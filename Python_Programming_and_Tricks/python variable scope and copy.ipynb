{
 "cells": [
  {
   "cell_type": "markdown",
   "metadata": {},
   "source": [
    "一、局部变量和全局变量"
   ]
  },
  {
   "cell_type": "code",
   "execution_count": 2,
   "metadata": {},
   "outputs": [
    {
     "name": "stdout",
     "output_type": "stream",
     "text": [
      "8\n",
      "5\n",
      "4\n"
     ]
    },
    {
     "ename": "UnboundLocalError",
     "evalue": "local variable 'b' referenced before assignment",
     "output_type": "error",
     "traceback": [
      "\u001b[1;31m---------------------------------------------------------------------------\u001b[0m",
      "\u001b[1;31mUnboundLocalError\u001b[0m                         Traceback (most recent call last)",
      "\u001b[1;32m<ipython-input-2-4aed16332a43>\u001b[0m in \u001b[0;36m<module>\u001b[1;34m()\u001b[0m\n\u001b[0;32m     18\u001b[0m \u001b[0ma\u001b[0m \u001b[1;33m=\u001b[0m \u001b[1;36m4\u001b[0m\u001b[1;33m\u001b[0m\u001b[0m\n\u001b[0;32m     19\u001b[0m \u001b[0mb\u001b[0m \u001b[1;33m=\u001b[0m \u001b[1;36m8\u001b[0m\u001b[1;33m\u001b[0m\u001b[0m\n\u001b[1;32m---> 20\u001b[1;33m \u001b[0mf2\u001b[0m\u001b[1;33m(\u001b[0m\u001b[0ma\u001b[0m\u001b[1;33m)\u001b[0m\u001b[1;33m\u001b[0m\u001b[0m\n\u001b[0m",
      "\u001b[1;32m<ipython-input-2-4aed16332a43>\u001b[0m in \u001b[0;36mf2\u001b[1;34m(a)\u001b[0m\n\u001b[0;32m     13\u001b[0m \u001b[1;32mdef\u001b[0m \u001b[0mf2\u001b[0m\u001b[1;33m(\u001b[0m\u001b[0ma\u001b[0m\u001b[1;33m)\u001b[0m\u001b[1;33m:\u001b[0m\u001b[1;33m\u001b[0m\u001b[0m\n\u001b[0;32m     14\u001b[0m     \u001b[0mprint\u001b[0m\u001b[1;33m(\u001b[0m\u001b[0ma\u001b[0m\u001b[1;33m)\u001b[0m\u001b[1;33m\u001b[0m\u001b[0m\n\u001b[1;32m---> 15\u001b[1;33m     \u001b[0mprint\u001b[0m\u001b[1;33m(\u001b[0m\u001b[0mb\u001b[0m\u001b[1;33m)\u001b[0m\u001b[1;33m\u001b[0m\u001b[0m\n\u001b[0m\u001b[0;32m     16\u001b[0m     \u001b[0mb\u001b[0m \u001b[1;33m=\u001b[0m \u001b[1;36m7\u001b[0m\u001b[1;33m\u001b[0m\u001b[0m\n\u001b[0;32m     17\u001b[0m \u001b[1;33m\u001b[0m\u001b[0m\n",
      "\u001b[1;31mUnboundLocalError\u001b[0m: local variable 'b' referenced before assignment"
     ]
    }
   ],
   "source": [
    "\n",
    "# 代码段 1\n",
    "a = 7\n",
    "b = 5\n",
    "def f1(a):\n",
    "    a += 1\n",
    "    print(a)\n",
    "    print(b)\n",
    " \n",
    "f1(a)\n",
    " \n",
    "# 代码段 2\n",
    "def f2(a):\n",
    "    print(a)\n",
    "    print(b)\n",
    "    b = 7\n",
    " \n",
    "a = 4\n",
    "b = 8\n",
    "f2(a)"
   ]
  },
  {
   "cell_type": "markdown",
   "metadata": {},
   "source": [
    "第一题是不是比较简单，输出的结果就是：8， 5\n",
    "\n",
    "而第二题的结果会报错，从错误信息 local variable 'b' referenced before assignment 中，我们可以知道变量b在使用前没有定义没有定义。这是为什么呢？在调用f2之前我们不是定义了全局变量b=8嘛？\n",
    "\n",
    "在函数内部，如果一个变量名出线在赋值语句的左边（即 “=” 号的左边），那么我们就将此变量作为函数内部的局部变量，而不管该变量具体出现在函数的前半部分还是后半部分。\n",
    "\n",
    "代码段 1 中，我们可以知道，变量a是作为局部变量存在的，而变量b由于在函数中并没有出现在赋值语句的左边，所以b是作为全局变量存在的。而代码段 2 中的b显然是一个局部变量，虽然print操作在b赋值操作之前。（前面讲了，只要在函数体内变量出现在了“=”的左边，那么该变量就是局部变量，而不存在前一半部分是全局变量，后一半部分又作为局部变量的情况。局部变量的优先级大于全局变量，当一个变量同时存在同名的局部变量和全局变量的时候，优先使用局部变量）\n",
    "\n",
    "对于局部变量，在使用前，我们需要先赋值，后使用。在代码段2中，我们发现b作为一个局部变量，但是在没有定义之前就进行引用了，所以会报错。\n",
    "--------------------- \n",
    "作者：Zhang Xiang \n",
    "来源：CSDN \n",
    "原文：https://blog.csdn.net/weixin_39561100/article/details/82803511 \n",
    "版权声明：本文为博主原创文章，转载请附上博文链接！"
   ]
  },
  {
   "cell_type": "markdown",
   "metadata": {},
   "source": [
    "代码段2，我们想先输出全局变量的值，然后对变量重新赋值的话，有没有什么处理方法呢。也是可以解决的，这就需要使用global 关键字。global 将变量b作为全局变量，就可以在定义之前对全局变量进行引用了。同时函数内部对全局变量进行了重新赋值，所以最后b的值变为了7."
   ]
  },
  {
   "cell_type": "code",
   "execution_count": 4,
   "metadata": {},
   "outputs": [
    {
     "name": "stdout",
     "output_type": "stream",
     "text": [
      "4\n",
      "8\n",
      "7\n"
     ]
    }
   ],
   "source": [
    "\n",
    "# 代码段 2 的修改\n",
    "def f2(a):\n",
    "    global b\n",
    "    print(a)\n",
    "    print(b)\n",
    "    b = 7\n",
    " \n",
    "a = 4\n",
    "b = 8\n",
    "f2(a)\n",
    "print(b)"
   ]
  },
  {
   "cell_type": "code",
   "execution_count": 5,
   "metadata": {},
   "outputs": [
    {
     "name": "stdout",
     "output_type": "stream",
     "text": [
      "[1, 2]\n",
      "[1, 2, 3]\n",
      "[1, 2, 3]\n",
      "[1, 2]\n",
      "[4, 5, 3]\n",
      "[1, 2]\n"
     ]
    }
   ],
   "source": [
    "# 代码段 3\n",
    "def func(a):\n",
    "    #这里a做全局变量，所以在func里修改也会影响到外边\n",
    "    a.append(3)\n",
    "    print(a)\n",
    " \n",
    "a = [1,2]\n",
    "print(a)\n",
    "func(a)\n",
    "print(a)\n",
    " \n",
    "# 输出：[1,2], [1,2,3], [1,2,3]\n",
    " \n",
    "# 代码段 4\n",
    "def func(a):\n",
    "    #func中的a只做局部变量，影响不到全局变量a的 值\n",
    "    a = [4,5]\n",
    "    a.append(3)\n",
    "    print(a)\n",
    " \n",
    "a = [1,2]\n",
    "print(a)\n",
    "func(a)\n",
    "print(a)\n",
    " \n",
    "# 输出为：[1, 2], [4,5,3], [1, 2]\n",
    "# 当参数是一个可变对象并且作为全局变量出现的时候，对其进行修改，也会影响到全局变量的值，同理对于局部变量的修改并不会影响全局变量的值。"
   ]
  },
  {
   "cell_type": "markdown",
   "metadata": {},
   "source": [
    "二、复制，深拷贝，浅拷贝\n",
    "\n",
    "首先还是先来看一下，这几个代码，看看会输出什么。"
   ]
  },
  {
   "cell_type": "code",
   "execution_count": 8,
   "metadata": {},
   "outputs": [
    {
     "name": "stdout",
     "output_type": "stream",
     "text": [
      "[1, 2, 3, [4, 5], (7, 8), 10]\n",
      "[1, 2, 3, [4, 5], (7, 8), 10]\n",
      "---------------------\n",
      "[1, 2, [3, 4], (6, 7), 10]\n",
      "[1, 2, [3, 4], (6, 7)]\n",
      "---------------------\n",
      "[1, 2, [3, 4], (6, 7), 0, 10]\n",
      "[1, 2, [3, 4, 5], (6, 7)]\n",
      "deepcopy: 二者完全一样\n"
     ]
    }
   ],
   "source": [
    "# 代码段 4\n",
    "a = [1,2,3, [4,5], (7, 8)]\n",
    "b = a\n",
    "a.append(10)\n",
    "print(a)\n",
    "print(b)\n",
    "print('---------------------') \n",
    "# out: [1, 2, 3, [4, 5], (7, 8), 10]，[1, 2, 3, [4, 5], (7, 8), 10]\n",
    " \n",
    "# 代码段 5\n",
    "a = [1,2, [3,4,5], (6, 7)]\n",
    "b = list(a)# 浅拷贝\n",
    "def f5(a):\n",
    "    a.append(10)# append的10有一个新地址，b不知道\n",
    "    a[2].remove(5)#b中的每一个元素和a中的每一个元素都是指向相同的地址。即内部地址是一样的，所以修改内部可变对象的时候，b也跟着改\n",
    "    print(a)\n",
    "    print(b)\n",
    "f5(a)\n",
    " \n",
    "# out：[1, 2, [3, 4], (6, 7), 10]， [1, 2, [3, 4], (6, 7)] \n",
    "print('---------------------') \n",
    "\n",
    "\n",
    "# 代码段 6\n",
    "import copy\n",
    "a = [1,2, [3,4,5], (6, 7)]\n",
    "b = copy.deepcopy(a)\n",
    "def f6(a):\n",
    "    a += [0, 10]\n",
    "    a[2].remove(5)\n",
    "    print(a)\n",
    "    print(b)\n",
    "f6(a)\n",
    "print('deepcopy: 二者完全一样') \n",
    "# out：[1, 2, [3, 4], (6, 7), 0, 10]， [1, 2, [3, 4, 5], (6, 7)]"
   ]
  },
  {
   "cell_type": "markdown",
   "metadata": {},
   "source": [
    "代码 4 中b是a的一个复制，复制过程中b指向a的地址，对a做的任何修改都将反映到b上。可以这样说，a、b是同一个值。\n",
    "\n",
    "代码 5 中b是a的一个浅拷贝（list和[:]切片操作都是浅拷贝），浅拷贝过程中，b和a的地址是不一样的，但是b中的每一个元素和a中的每一个元素都是指向相同的地址。即内部地址是一样的。修改a中不可变对象时，并不会影响到b中对应位置的元素。这是因为替换的新的元素会分配一个新的地址，而b并不指向新的地址。当修改a中的可变对象时，比如代码 5 中a[2].remove(5), 由于修改可变对象，并没有修改其地址。所以，对a中可变对象的修改会影响到b中对应位置的对象。\n",
    "\n",
    "代码 6 中通过copy.deepcopy 方法实现深拷贝的操作，深拷贝过程中不仅a和b两个变量拥有不同的地址，内部的元素也拥有不同的元素，所以，在对其中一个变量进行修改的时候，完全不会影响到另一个元素。\n",
    "--------------------- \n",
    "作者：Zhang Xiang \n",
    "来源：CSDN \n",
    "原文：https://blog.csdn.net/weixin_39561100/article/details/82803511 \n",
    "版权声明：本文为博主原创文章，转载请附上博文链接！"
   ]
  },
  {
   "cell_type": "code",
   "execution_count": null,
   "metadata": {},
   "outputs": [],
   "source": []
  },
  {
   "cell_type": "code",
   "execution_count": null,
   "metadata": {},
   "outputs": [],
   "source": []
  },
  {
   "cell_type": "code",
   "execution_count": null,
   "metadata": {},
   "outputs": [],
   "source": []
  },
  {
   "cell_type": "code",
   "execution_count": null,
   "metadata": {},
   "outputs": [],
   "source": []
  },
  {
   "cell_type": "code",
   "execution_count": null,
   "metadata": {},
   "outputs": [],
   "source": []
  }
 ],
 "metadata": {
  "kernelspec": {
   "display_name": "Python 3",
   "language": "python",
   "name": "python3"
  },
  "language_info": {
   "codemirror_mode": {
    "name": "ipython",
    "version": 3
   },
   "file_extension": ".py",
   "mimetype": "text/x-python",
   "name": "python",
   "nbconvert_exporter": "python",
   "pygments_lexer": "ipython3",
   "version": "3.6.5"
  }
 },
 "nbformat": 4,
 "nbformat_minor": 2
}
