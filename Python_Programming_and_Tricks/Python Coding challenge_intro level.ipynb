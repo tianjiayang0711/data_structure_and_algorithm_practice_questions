{
 "cells": [
  {
   "cell_type": "markdown",
   "metadata": {},
   "source": [
    " 1.题目：有四个数字：1、2、3、4，能组成多少个互不相同且无重复数字的三位数？各是多少？\n",
    "\n",
    "程序分析：可填在百位、十位、个位的数字都是1、2、3、4。组成所有的排列后再去 掉不满足条件的排列。"
   ]
  },
  {
   "cell_type": "code",
   "execution_count": 2,
   "metadata": {},
   "outputs": [
    {
     "name": "stdout",
     "output_type": "stream",
     "text": [
      "123\n",
      "124\n",
      "132\n",
      "134\n",
      "142\n",
      "143\n",
      "213\n",
      "214\n",
      "231\n",
      "234\n",
      "241\n",
      "243\n",
      "312\n",
      "314\n",
      "321\n",
      "324\n",
      "341\n",
      "342\n",
      "412\n",
      "413\n",
      "421\n",
      "423\n",
      "431\n",
      "432\n"
     ]
    }
   ],
   "source": [
    "def coding1():\n",
    "    for i in range(1,5):\n",
    "        for j in range(1,5):\n",
    "            for k in range(1,5):\n",
    "                if(i != j ) and (j!=k) and ( i != k):\n",
    "                    print(str(i)+str(j)+str(k))\n",
    "coding1()"
   ]
  },
  {
   "cell_type": "markdown",
   "metadata": {},
   "source": [
    "2.题目：企业发放的奖金根据利润提成。利润(I)低于或等于10万元时，奖金可提10%；利润高于10万元，低于20万元时，低于10万元的部分按10%提成，高于10万元的部分，可提成7.5%；20万到40万之间时，高于20万元的部分，可提成5%；40万到60万之间时高于40万元的部分，可提成3%；60万到100万之间时，高于60万元的部分，可提成1.5%，高于100万元时，超过100万元的部分按1%提成，从键盘输入当月利润I，求应发放奖金总数？\n",
    "\n",
    "程序分析：请利用数轴来分界，定位。注意定义时需把奖金定义成长整型。"
   ]
  },
  {
   "cell_type": "code",
   "execution_count": 6,
   "metadata": {},
   "outputs": [
    {
     "name": "stdout",
     "output_type": "stream",
     "text": [
      "3000.0\n",
      "10000.0\n",
      "7500.0\n",
      "10000.0\n"
     ]
    }
   ],
   "source": [
    "#!/usr/bin/python\n",
    "# -*- coding: UTF-8 -*-\n",
    " \n",
    "def coding2(i):\n",
    "    arr = [1000000,600000,400000,200000,100000,0]\n",
    "    rat = [0.01,0.015,0.03,0.05,0.075,0.1]\n",
    "    r = 0\n",
    "    for idx in range(0,6):\n",
    "        if i>arr[idx]:\n",
    "            r+=(i-arr[idx])*rat[idx]\n",
    "            print ((i-arr[idx])*rat[idx])\n",
    "            i=arr[idx]\n",
    "coding2(500000)"
   ]
  },
  {
   "cell_type": "markdown",
   "metadata": {},
   "source": [
    "3.题目：一个整数，它加上100后是一个完全平方数，再加上168又是一个完全平方数，请问该数是多少？\n",
    "\n",
    "程序分析：\n",
    "\n",
    "假设该数为 x。\n",
    "\n",
    "1、则：x + 100 = n2, x + 100 + 168 = m2\n",
    "\n",
    "2、计算等式：m2 - n2 = (m + n)(m - n) = 168\n",
    "\n",
    "3、设置： m + n = i，m - n = j，i * j =168，i 和 j 至少一个是偶数\n",
    "\n",
    "4、可得： m = (i + j) / 2， n = (i - j) / 2，i 和 j 要么都是偶数，要么都是奇数。\n",
    "\n",
    "5、从 3 和 4 推导可知道，i 与 j 均是大于等于 2 的偶数。\n",
    "\n",
    "6、由于 i * j = 168， j>=2，则 1 < i < 168 / 2 + 1。\n",
    "\n",
    "7、接下来将 i 的所有数字循环计算即可。"
   ]
  },
  {
   "cell_type": "code",
   "execution_count": null,
   "metadata": {},
   "outputs": [],
   "source": []
  },
  {
   "cell_type": "markdown",
   "metadata": {},
   "source": [
    "4.题目：输入某年某月某日，判断这一天是这一年的第几天？\n",
    "\n",
    "程序分析：以3月5日为例，应该先把前两个月的加起来，然后再加上5天即本年的第几天，特殊情况，闰年且输入月份大于2时需考虑多加一天："
   ]
  },
  {
   "cell_type": "code",
   "execution_count": null,
   "metadata": {},
   "outputs": [],
   "source": []
  },
  {
   "cell_type": "code",
   "execution_count": null,
   "metadata": {},
   "outputs": [],
   "source": []
  },
  {
   "cell_type": "code",
   "execution_count": null,
   "metadata": {},
   "outputs": [],
   "source": []
  },
  {
   "cell_type": "code",
   "execution_count": null,
   "metadata": {},
   "outputs": [],
   "source": []
  },
  {
   "cell_type": "markdown",
   "metadata": {},
   "source": [
    "5.题目：输入三个整数x,y,z，请把这三个数由小到大输出。\n",
    "\n",
    "程序分析：我们想办法把最小的数放到x上，先将x与y进行比较，如果x>y则将x与y的值进行交换，然后再用x与z进行比较，如果x>z则将x与z的值进行交换，这样能使x最小。"
   ]
  },
  {
   "cell_type": "code",
   "execution_count": 7,
   "metadata": {},
   "outputs": [
    {
     "name": "stdout",
     "output_type": "stream",
     "text": [
      "-2\n",
      "4\n",
      "6\n"
     ]
    }
   ],
   "source": [
    "def coding3(x,y,z):\n",
    "    list1 =[]\n",
    "    list1.append(x)\n",
    "    list1.append(y)\n",
    "    list1.append(z)\n",
    "    list1.sort()\n",
    "    for i in list1:\n",
    "        print(i)\n",
    "coding3(4,6,-2)"
   ]
  },
  {
   "cell_type": "raw",
   "metadata": {},
   "source": [
    "6.题目：斐波那契数列。\n",
    "\n",
    "程序分析：斐波那契数列（Fibonacci sequence），又称黄金分割数列，指的是这样一个数列：0、1、1、2、3、5、8、13、21、34、……。\n",
    "\n",
    "在数学上，费波那契数列是以递归的方法来定义：\n",
    "\n",
    "F0 = 0     (n=0)\n",
    "F1 = 1    (n=1)\n",
    "Fn = F[n-1]+ F[n-2](n=>2)"
   ]
  },
  {
   "cell_type": "code",
   "execution_count": 22,
   "metadata": {},
   "outputs": [
    {
     "name": "stdout",
     "output_type": "stream",
     "text": [
      "89\n",
      "[0, 1, 1, 2, 3, 5, 8, 13, 21, 34, 55, 89]\n"
     ]
    }
   ],
   "source": [
    "def coding6_recursive(n):\n",
    "    \n",
    "    if n == 0:\n",
    "        return 0\n",
    "    elif n == 1:\n",
    "        return 1\n",
    "    elif n == 2 :\n",
    "        return 1\n",
    "    else:\n",
    "        return fib(n-1) + fib(n-2)\n",
    "print(coding6_recursive(11))\n",
    "\n",
    "\n",
    "\n",
    "def coding6_DP(n):\n",
    "    fib = [0,1,1]\n",
    "    if n == 0:\n",
    "        return [0]\n",
    "    elif n == 1:\n",
    "        return [0,1]\n",
    "    elif n == 2 :\n",
    "        return [0,1,1]\n",
    "    for i in range(2,n):\n",
    "        fib.append(fib[-1]+fib[-2])\n",
    "    return fib\n",
    "print(coding6_DP(11))\n"
   ]
  },
  {
   "cell_type": "markdown",
   "metadata": {},
   "source": [
    "12.题目：判断101-200之间有多少个素数，并输出所有素数。\n",
    "\n",
    "程序分析：判断素数的方法：用一个数分别去除2到sqrt(这个数)，如果能被整除，则表明此数不是素数，反之是素数。 "
   ]
  },
  {
   "cell_type": "code",
   "execution_count": null,
   "metadata": {},
   "outputs": [],
   "source": []
  },
  {
   "cell_type": "markdown",
   "metadata": {},
   "source": [
    "13.题目：打印出所有的\"水仙花数\"，所谓\"水仙花数\"是指一个三位数，其各位数字立方和等于该数本身。例如：153是一个\"水仙花数\"，因为153=1的三次方＋5的三次方＋3的三次方。\n",
    "\n",
    "程序分析：利用for循环控制100-999个数，每个数分解出个位，十位，百位。"
   ]
  },
  {
   "cell_type": "code",
   "execution_count": null,
   "metadata": {},
   "outputs": [],
   "source": []
  },
  {
   "cell_type": "code",
   "execution_count": null,
   "metadata": {},
   "outputs": [],
   "source": []
  }
 ],
 "metadata": {
  "kernelspec": {
   "display_name": "Python 3",
   "language": "python",
   "name": "python3"
  },
  "language_info": {
   "codemirror_mode": {
    "name": "ipython",
    "version": 3
   },
   "file_extension": ".py",
   "mimetype": "text/x-python",
   "name": "python",
   "nbconvert_exporter": "python",
   "pygments_lexer": "ipython3",
   "version": "3.6.5"
  }
 },
 "nbformat": 4,
 "nbformat_minor": 2
}
