{
 "cells": [
  {
   "cell_type": "markdown",
   "metadata": {},
   "source": [
    "This is a tutorial about how to deal with string in Python 3.6"
   ]
  },
  {
   "cell_type": "code",
   "execution_count": 2,
   "metadata": {},
   "outputs": [
    {
     "name": "stdout",
     "output_type": "stream",
     "text": [
      "2\n",
      "3\n"
     ]
    }
   ],
   "source": [
    "#Chinese characters are also one length in py\n",
    "print (len(\"你好\"))\n",
    "print (len(\"你好！\"))"
   ]
  },
  {
   "cell_type": "markdown",
   "metadata": {},
   "source": [
    "# 1.类型转换"
   ]
  },
  {
   "cell_type": "code",
   "execution_count": 5,
   "metadata": {},
   "outputs": [
    {
     "name": "stdout",
     "output_type": "stream",
     "text": [
      "<class 'str'>\n",
      "<class 'float'> 3.14\n",
      "<class 'str'>\n",
      "<class 'int'> 3\n",
      "9.8596\n",
      "<class 'str'> 5\n"
     ]
    }
   ],
   "source": [
    "#对于疑似小数的字符串（含有小数点），我们用float函数将其转换为浮点型数值。\n",
    "pi = '3.14'\n",
    "print (type(pi))\n",
    "pi = float(pi)\n",
    "print (type(pi), pi)\n",
    "\n",
    "#对于疑似整数的字符串（不含有小数点），我们用int函数将其转换为整数型数值。\n",
    "pi = '3'\n",
    "print (type(pi))\n",
    "pi = int(pi)\n",
    "print (type(pi), pi)\n",
    "\n",
    "#转换为数值之后我们就可以进行正常的数值运算了。\n",
    "pi = '3.14'\n",
    "pi = float(pi)\n",
    "print (pi ** 2)\n",
    "\n",
    "# to str:\n",
    "num_1 = 2\n",
    "num_2 = 3\n",
    "result = str(num_1 + num_2)\n",
    "print (type(result), result)"
   ]
  },
  {
   "cell_type": "markdown",
   "metadata": {},
   "source": [
    "# 2.切片"
   ]
  },
  {
   "cell_type": "code",
   "execution_count": 8,
   "metadata": {},
   "outputs": [
    {
     "name": "stdout",
     "output_type": "stream",
     "text": [
      "Hello S\n",
      "ofa!\n",
      "el o\n",
      "!afoSafoS olleH\n",
      "!fSfSolH\n"
     ]
    }
   ],
   "source": [
    "my_str = 'Hello SofaSofa!'\n",
    "# 从左向右输出前7个字符\n",
    "print (my_str[:7])\n",
    "# 从右往左输出后4个元素\n",
    "print (my_str[-4:])\n",
    "\n",
    "my_str = 'Hello SofaSofa!'\n",
    "# 输出第2，4，6，8个字符\n",
    "a = my_str[1:8:2]\n",
    "print (a)\n",
    "\n",
    "#利用:和-1，我们可以将整个字符串取逆。\n",
    "my_str = 'Hello SofaSofa!'\n",
    "a = my_str[::-1]\n",
    "print (a)\n",
    "#试试看下面返回什么呢？-逆序后每两个返回一个\n",
    "a = my_str[::-2]\n",
    "print (a)"
   ]
  },
  {
   "cell_type": "markdown",
   "metadata": {},
   "source": [
    "# 3. Str + in and not or"
   ]
  },
  {
   "cell_type": "code",
   "execution_count": 9,
   "metadata": {},
   "outputs": [
    {
     "name": "stdout",
     "output_type": "stream",
     "text": [
      "False\n",
      "True\n",
      "True\n",
      "True\n",
      "False\n",
      "False\n",
      "True\n",
      "False\n",
      "False\n"
     ]
    }
   ],
   "source": [
    "my_str = 'Hello SofaSofa!'\n",
    "\n",
    "print (\"hel\" in my_str)\n",
    "print (\"Hel\" in my_str)\n",
    "print (\"!\" in my_str)\n",
    "\n",
    "\n",
    "#试试看使用not会是什么效果\n",
    "\n",
    "print (\"hel\" not in my_str)\n",
    "print (\"Hel\" not in my_str)\n",
    "print (\"!\" not in my_str)\n",
    "\n",
    "print ((\"hel\" and 'of') in my_str)\n",
    "print ((\"Hel\" or 'avc') not in my_str)\n",
    "print (\"!\" not in my_str)"
   ]
  },
  {
   "cell_type": "markdown",
   "metadata": {},
   "source": [
    "# 4.traverse String"
   ]
  },
  {
   "cell_type": "code",
   "execution_count": 12,
   "metadata": {},
   "outputs": [
    {
     "name": "stdout",
     "output_type": "stream",
     "text": [
      "H\n",
      "e\n",
      "l\n",
      "l\n",
      "o\n",
      " \n",
      "S\n",
      "o\n",
      "f\n",
      "a\n",
      "S\n",
      "o\n",
      "f\n",
      "a\n",
      "!\n",
      "\n",
      "\n",
      "H\n",
      "e\n",
      "l\n",
      "l\n",
      "o\n",
      " \n",
      "S\n",
      "o\n",
      "f\n",
      "a\n",
      "S\n",
      "o\n",
      "f\n",
      "a\n",
      "!\n"
     ]
    }
   ],
   "source": [
    "for i in my_str:\n",
    "    print (i)\n",
    "\n",
    "print('\\n')\n",
    "#同样我们也可以利用len()对字符串进行遍历：\n",
    "for i in range(len(my_str)):\n",
    "    print (my_str[i])"
   ]
  },
  {
   "cell_type": "markdown",
   "metadata": {},
   "source": [
    "# 5.modify string"
   ]
  },
  {
   "cell_type": "markdown",
   "metadata": {},
   "source": [
    "对于已定义的字符串，我们可以其进行修改。\n",
    "\n",
    "注意，字符串中字符的修改操作与list中元素的修改操作不同。 我们无法直接对某一指定位置的字符进行修改，my_str[0] = \"h\"会报错。通常我们会对整个字符串进行重新赋值。"
   ]
  },
  {
   "cell_type": "code",
   "execution_count": 13,
   "metadata": {},
   "outputs": [
    {
     "ename": "TypeError",
     "evalue": "'str' object does not support item assignment",
     "output_type": "error",
     "traceback": [
      "\u001b[1;31m---------------------------------------------------------------------------\u001b[0m",
      "\u001b[1;31mTypeError\u001b[0m                                 Traceback (most recent call last)",
      "\u001b[1;32m<ipython-input-13-9d8362e0c46d>\u001b[0m in \u001b[0;36m<module>\u001b[1;34m()\u001b[0m\n\u001b[0;32m      3\u001b[0m \u001b[1;33m\u001b[0m\u001b[0m\n\u001b[0;32m      4\u001b[0m \u001b[1;31m#下面的命令会出错。\u001b[0m\u001b[1;33m\u001b[0m\u001b[1;33m\u001b[0m\u001b[0m\n\u001b[1;32m----> 5\u001b[1;33m \u001b[0mmy_str\u001b[0m\u001b[1;33m[\u001b[0m\u001b[1;36m1\u001b[0m\u001b[1;33m]\u001b[0m \u001b[1;33m=\u001b[0m \u001b[1;34m\"E\"\u001b[0m\u001b[1;33m\u001b[0m\u001b[0m\n\u001b[0m",
      "\u001b[1;31mTypeError\u001b[0m: 'str' object does not support item assignment"
     ]
    }
   ],
   "source": [
    "my_str = 'Hello SofaSofa!'\n",
    "\n",
    "\n",
    "#下面的命令会出错。\n",
    "my_str[1] = \"E\""
   ]
  },
  {
   "cell_type": "code",
   "execution_count": 14,
   "metadata": {},
   "outputs": [
    {
     "name": "stdout",
     "output_type": "stream",
     "text": [
      "Hello SofaSofa!\n",
      "Today is Sunday!\n"
     ]
    }
   ],
   "source": [
    "#例子\n",
    "my_str = \"Hello\" + \" \" + \"SofaSofa!\"\n",
    "print (my_str)\n",
    "\n",
    "#另外一个例子\n",
    "str_1 = 'Today'\n",
    "str_space = ' '\n",
    "str_2 = 'is'\n",
    "str_3 = 'Sunday!'\n",
    "new_str = str_1 + str_space + str_2 + str_space + str_3\n",
    "print (new_str)"
   ]
  },
  {
   "cell_type": "code",
   "execution_count": 20,
   "metadata": {},
   "outputs": [
    {
     "name": "stdout",
     "output_type": "stream",
     "text": [
      "Hello SofaSofa!\n",
      "Heslo SofaSofa!\n",
      "Heslo SofaSofa.\n"
     ]
    }
   ],
   "source": [
    "## 比如我们想把index为10的字符改为s\n",
    "my_str = 'Hello SofaSofa!'\n",
    "print (my_str)\n",
    "my_str = my_str[:2] + 's' + my_str[3:]\n",
    "print (my_str)\n",
    "\n",
    "#比如我们想把最后的感叹号改为句号\n",
    "my_str = my_str[:-1] + '.'\n",
    "print (my_str)"
   ]
  },
  {
   "cell_type": "markdown",
   "metadata": {},
   "source": [
    "# 6. join与split"
   ]
  },
  {
   "cell_type": "code",
   "execution_count": 25,
   "metadata": {},
   "outputs": [
    {
     "name": "stdout",
     "output_type": "stream",
     "text": [
      "S*o*f*a*S*o*f*a\n",
      "S--o--f--a--S--o--f--a\n",
      "Hi, this is Wifi\n",
      "['H', ', th', 's ', 's W', 'f', '']\n",
      "<class 'list'>\n",
      "H, ths s Wf\n"
     ]
    }
   ],
   "source": [
    "#a.join(my_str)可以用字符a将字符串my_str中的所有字符串联起来。\n",
    "print ('*'.join('SofaSofa'))\n",
    "print ('--'.join('SofaSofa'))\n",
    "# my_str.split(a)可以看作是a.join(my_str)的逆操作。但不同的是，my_str.split(a)的返回值是list类型的。\n",
    "\n",
    "# ''.join(my_list)可以将my_list中的元素串联成一个字符串。\n",
    "my_str = 'Hi, this is Wifi'\n",
    "print (my_str)\n",
    "my_split = my_str.split('i')\n",
    "print (my_split)\n",
    "print (type(my_split))\n",
    "\n",
    "#若想将list中的元素全部串联成字符串，可以使用join方法。\n",
    "new_str = ''.join(my_split)\n",
    "print (new_str)"
   ]
  },
  {
   "cell_type": "markdown",
   "metadata": {},
   "source": [
    "# 7.strip()"
   ]
  },
  {
   "cell_type": "code",
   "execution_count": 27,
   "metadata": {},
   "outputs": [
    {
     "name": "stdout",
     "output_type": "stream",
     "text": [
      "  two spaces in the front and three spaces in the end.   \n",
      "57\n",
      "two spaces in the front and three spaces in the end.   \n",
      "55\n",
      "  two spaces in the front and three spaces in the end.\n",
      "two spaces in the front and three spaces in the end.\n",
      "52\n"
     ]
    }
   ],
   "source": [
    "# new_str = my_str.strip()可用来去除my_str头尾的所有空格。\n",
    "\n",
    "# new_str = my_str.lstrip()可用来去除my_str头部的所有空格。\n",
    "\n",
    "# new_str = my_str.rstrip()可用来去除my_str尾部的所有空格。\n",
    "str_1 = '  two spaces in the front and three spaces in the end.   '\n",
    "print (str_1)\n",
    "print(len(str_1))\n",
    "# 去除头部的空格\n",
    "str_2 = str_1.lstrip()\n",
    "print (str_2)\n",
    "print(len(str_2))\n",
    "# 去除尾部的空格\n",
    "str_3 = str_1.rstrip()\n",
    "print (str_3)\n",
    "# 去除头尾的空格\n",
    "str_4 = str_1.strip()\n",
    "print (str_4)\n",
    "print(len(str_4))"
   ]
  },
  {
   "cell_type": "markdown",
   "metadata": {},
   "source": [
    "# 8.Uppercase and Lowercase"
   ]
  },
  {
   "cell_type": "code",
   "execution_count": 28,
   "metadata": {},
   "outputs": [
    {
     "name": "stdout",
     "output_type": "stream",
     "text": [
      "Hello SofaSofa!\n",
      "hello sofasofa!\n",
      "HELLO SOFASOFA!\n"
     ]
    }
   ],
   "source": [
    "my_str = 'Hello SofaSofa!'\n",
    "print (my_str)\n",
    "lower_str = my_str.lower()\n",
    "print (lower_str)\n",
    "upper_str = my_str.upper()\n",
    "print (upper_str)"
   ]
  },
  {
   "cell_type": "markdown",
   "metadata": {},
   "source": [
    "# 9.  %,  \\n, \\t"
   ]
  },
  {
   "cell_type": "code",
   "execution_count": 31,
   "metadata": {},
   "outputs": [
    {
     "name": "stdout",
     "output_type": "stream",
     "text": [
      "There are 5 apples.\n",
      "2 + 3 = 5\n"
     ]
    }
   ],
   "source": [
    "#例子\n",
    "x = 5\n",
    "sentence = \"There are %s apples.\"%x\n",
    "print (sentence)\n",
    "\n",
    "#也可以插入多个变量。\n",
    "a, b = 2, 3\n",
    "c = a + b\n",
    "result = \"%s + %s = %s\"%(a, b, c)\n",
    "print (result)"
   ]
  },
  {
   "cell_type": "code",
   "execution_count": 29,
   "metadata": {},
   "outputs": [
    {
     "name": "stdout",
     "output_type": "stream",
     "text": [
      "There are 5 apples.\n",
      "There are 15 pears.\n"
     ]
    }
   ],
   "source": [
    "# \\n表示回车（换行）。\n",
    "\n",
    "# \\t表示制表符(tab)。\n",
    "\n",
    "#例子\n",
    "apples = 5\n",
    "pears = 15\n",
    "sentence = \"There are %s apples.\\nThere are %s pears.\"%(apples, pears)\n",
    "print (sentence)"
   ]
  },
  {
   "cell_type": "code",
   "execution_count": 30,
   "metadata": {},
   "outputs": [
    {
     "name": "stdout",
     "output_type": "stream",
     "text": [
      "\n",
      "1*1=1 \t\n",
      "2*1=2 \t2*2=4 \t\n",
      "3*1=3 \t3*2=6 \t3*3=9 \t\n",
      "4*1=4 \t4*2=8 \t4*3=12 \t4*4=16 \t\n",
      "5*1=5 \t5*2=10 \t5*3=15 \t5*4=20 \t5*5=25 \t\n",
      "6*1=6 \t6*2=12 \t6*3=18 \t6*4=24 \t6*5=30 \t6*6=36 \t\n",
      "7*1=7 \t7*2=14 \t7*3=21 \t7*4=28 \t7*5=35 \t7*6=42 \t7*7=49 \t\n",
      "8*1=8 \t8*2=16 \t8*3=24 \t8*4=32 \t8*5=40 \t8*6=48 \t8*7=56 \t8*8=64 \t\n",
      "9*1=9 \t9*2=18 \t9*3=27 \t9*4=36 \t9*5=45 \t9*6=54 \t9*7=63 \t9*8=72 \t9*9=81 \t\n",
      "\n"
     ]
    }
   ],
   "source": [
    "table = ''\n",
    "for i in range(10):\n",
    "    for j in range(1, i + 1):\n",
    "        table += '%s*%s=%s \\t'%(i, j, i * j)\n",
    "    table += '\\n'\n",
    "print (table)"
   ]
  }
 ],
 "metadata": {
  "kernelspec": {
   "display_name": "Python 3",
   "language": "python",
   "name": "python3"
  },
  "language_info": {
   "codemirror_mode": {
    "name": "ipython",
    "version": 3
   },
   "file_extension": ".py",
   "mimetype": "text/x-python",
   "name": "python",
   "nbconvert_exporter": "python",
   "pygments_lexer": "ipython3",
   "version": "3.6.5"
  }
 },
 "nbformat": 4,
 "nbformat_minor": 2
}
